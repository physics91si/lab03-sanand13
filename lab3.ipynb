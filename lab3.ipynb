{
 "cells": [
  {
   "cell_type": "markdown",
   "metadata": {},
   "source": [
    "# Physics 91SI: Lab 3\n",
    "\n",
    "Part 1\n",
    "------"
   ]
  },
  {
   "cell_type": "code",
   "execution_count": 41,
   "metadata": {},
   "outputs": [],
   "source": [
    "# Don't edit this function\n",
    "def load_sample():\n",
    "    \"\"\"Return the entire text of Hamlet in a string.\"\"\"\n",
    "    with open('hamlet.txt') as f:\n",
    "        sample = f.read()\n",
    "    return sample"
   ]
  },
  {
   "cell_type": "code",
   "execution_count": 42,
   "metadata": {},
   "outputs": [],
   "source": [
    "import string\n",
    "\n",
    "def parse_sample(text, words_only = False, sort_list = False):\n",
    "    \n",
    "    punctuation = {\".\",\",\",\":\",\";\",\"\\\"\",\"\\'\",\"?\",\"!\"}\n",
    "    \n",
    "    # getting list of the words\n",
    "    text = load_sample()\n",
    "    \n",
    "    # replacing - with white space\n",
    "    text.replace(\"-\", \" \")\n",
    "    \n",
    "    # splitting using whitespace\n",
    "    wordList = text.split()\n",
    "        \n",
    "    # words only\n",
    "    if words_only == True:\n",
    "        \n",
    "        for i in range(0,len(wordList)):\n",
    "            word = wordList[i]\n",
    "            \n",
    "            # remove punctuation\n",
    "            for c in word:\n",
    "                if c in punctuation:\n",
    "                    word = word.replace(c, \"\")\n",
    "\n",
    "            # convert to lowercase\n",
    "            wordList[i] = word.lower()\n",
    "                    \n",
    "    # sorting list\n",
    "    if sort_list == True:\n",
    "        wordList.sort()\n",
    "    \n",
    "    return wordList"
   ]
  },
  {
   "cell_type": "markdown",
   "metadata": {},
   "source": [
    "Part 2\n",
    "------"
   ]
  },
  {
   "cell_type": "code",
   "execution_count": 51,
   "metadata": {},
   "outputs": [],
   "source": [
    "import numpy as np\n",
    "import string\n",
    "\n",
    "def count_freq(lst):\n",
    "    d = {}\n",
    "    for word in lst:\n",
    "        if word in d.keys():\n",
    "            d[word] += 1\n",
    "        else:\n",
    "            d[word] = 1\n",
    "    return d\n",
    "\n",
    "def mean(lst):\n",
    "    if len(lst) != 0:\n",
    "        return sum(lst)/len(lst)\n",
    "\n",
    "def stdev(lst):\n",
    "    numberArray = np.asarray(lst)\n",
    "    return np.std(numberArray)\n",
    "\n",
    "def median(lst):\n",
    "    numberArray = np.asarray(lst)\n",
    "    return np.median(numberArray)"
   ]
  },
  {
   "cell_type": "markdown",
   "metadata": {},
   "source": [
    "Part 3\n",
    "------"
   ]
  },
  {
   "cell_type": "code",
   "execution_count": 60,
   "metadata": {},
   "outputs": [],
   "source": [
    "def print_stats(lst):\n",
    "    print (\"The common statistics about the word frequencies of this list of words are: \")\n",
    "    print (\"Average number of times that a word occurs:\",mean(lst))\n",
    "    print (\"68% of the words occur more than\",stdev(lst),\"times.\")\n",
    "    print (\"The middle most frequency is:\",median(lst))"
   ]
  }
 ],
 "metadata": {
  "kernelspec": {
   "display_name": "Python 3",
   "language": "python",
   "name": "python3"
  },
  "language_info": {
   "codemirror_mode": {
    "name": "ipython",
    "version": 3
   },
   "file_extension": ".py",
   "mimetype": "text/x-python",
   "name": "python",
   "nbconvert_exporter": "python",
   "pygments_lexer": "ipython3",
   "version": "3.6.4"
  }
 },
 "nbformat": 4,
 "nbformat_minor": 1
}
